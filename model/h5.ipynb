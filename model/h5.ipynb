{
 "cells": [
  {
   "cell_type": "code",
   "execution_count": 1,
   "id": "b788c848-0c6c-46b6-82a1-87f8af0e72f4",
   "metadata": {
    "tags": []
   },
   "outputs": [],
   "source": [
    "import h5py\n",
    "import json\n",
    "import warnings\n",
    "import argparse\n",
    "import numpy as np\n",
    "\n",
    "import numpy as np\n",
    "import math"
   ]
  },
  {
   "cell_type": "code",
   "execution_count": 2,
   "id": "3281b91b-19ea-423a-9dde-cbf98d33bc95",
   "metadata": {
    "tags": []
   },
   "outputs": [],
   "source": [
    "weights_file_name = \"../model/model_17-08-2023.h5\""
   ]
  },
  {
   "cell_type": "code",
   "execution_count": 3,
   "id": "31839e76-2fe2-4cbc-b193-88161b2fcabc",
   "metadata": {
    "tags": []
   },
   "outputs": [
    {
     "name": "stdout",
     "output_type": "stream",
     "text": [
      "{\"loss\": \"mse\", \"metrics\": [[{\"class_name\": \"MeanMetricWrapper\", \"config\": {\"name\": \"mse\", \"dtype\": \"float32\", \"fn\": \"mean_squared_error\"}}, {\"class_name\": \"MeanMetricWrapper\", \"config\": {\"name\": \"mae\", \"dtype\": \"float32\", \"fn\": \"mean_absolute_error\"}}, {\"class_name\": \"MeanMetricWrapper\", \"config\": {\"name\": \"mape\", \"dtype\": \"float32\", \"fn\": \"mean_absolute_percentage_error\"}}]], \"weighted_metrics\": None, \"loss_weights\": None, \"optimizer_config\": {\"class_name\": \"Custom>Adam\", \"config\": {\"name\": \"Adam\", \"weight_decay\": None, \"clipnorm\": None, \"global_clipnorm\": None, \"clipvalue\": None, \"use_ema\": False, \"ema_momentum\": 0.99, \"ema_overwrite_frequency\": None, \"jit_compile\": False, \"is_legacy_optimizer\": False, \"learning_rate\": 9.999999747378752e-06, \"beta_1\": 0.9, \"beta_2\": 0.999, \"epsilon\": 1e-07, \"amsgrad\": False}}}\n"
     ]
    }
   ],
   "source": [
    "with h5py.File(weights_file_name,'r') as f:\n",
    "    print(f.attrs['training_config'].replace('true','True').replace('false','False').replace('null','None'))"
   ]
  },
  {
   "cell_type": "code",
   "execution_count": 4,
   "id": "4f0a7081-0e39-4b59-a39c-e1a23d3f573f",
   "metadata": {
    "tags": []
   },
   "outputs": [
    {
     "name": "stdout",
     "output_type": "stream",
     "text": [
      "<HDF5 group \"/model_weights\" (10 members)>\n"
     ]
    }
   ],
   "source": [
    "with h5py.File(weights_file_name,'r') as weights_file:\n",
    "    # weights of model\n",
    "    model_weights = weights_file['model_weights']\n",
    "    keras_version = weights_file.attrs['keras_version']\n",
    "    print(model_weights)"
   ]
  }
 ],
 "metadata": {
  "kernelspec": {
   "display_name": "Python 3 (based on the module python3/2023.01)",
   "language": "python",
   "name": "python3_2023_01"
  },
  "language_info": {
   "codemirror_mode": {
    "name": "ipython",
    "version": 3
   },
   "file_extension": ".py",
   "mimetype": "text/x-python",
   "name": "python",
   "nbconvert_exporter": "python",
   "pygments_lexer": "ipython3",
   "version": "3.10.10"
  }
 },
 "nbformat": 4,
 "nbformat_minor": 5
}
